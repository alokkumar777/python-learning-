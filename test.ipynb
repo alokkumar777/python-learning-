{
 "cells": [
  {
   "cell_type": "code",
   "execution_count": 22,
   "metadata": {},
   "outputs": [
    {
     "name": "stdout",
     "output_type": "stream",
     "text": [
      "2024-12-16 21:26:16.639774\n",
      "16\n",
      "12\n",
      "16\n",
      "1734364576.639774\n"
     ]
    }
   ],
   "source": [
    "from datetime import datetime \n",
    "now = datetime.now()\n",
    "print(now)\n",
    "day = now.day\n",
    "print(day)\n",
    "month = now.month\n",
    "print(month)\n",
    "second = now.second\n",
    "print(second)\n",
    "timestamp = now.timestamp()\n",
    "print(timestamp)\n",
    "\n",
    "\n"
   ]
  },
  {
   "cell_type": "code",
   "execution_count": 40,
   "metadata": {},
   "outputs": [
    {
     "name": "stdout",
     "output_type": "stream",
     "text": [
      "2020-01-01 00:00:00\n",
      "2024-12-16 21:40:39.886672\n"
     ]
    }
   ],
   "source": [
    "now = datetime(2020, 1, 1)\n",
    "print(now)\n",
    "print(now.today())"
   ]
  },
  {
   "cell_type": "code",
   "execution_count": 36,
   "metadata": {},
   "outputs": [
    {
     "name": "stdout",
     "output_type": "stream",
     "text": [
      "21:38:25, 16/December/2024\n"
     ]
    }
   ],
   "source": [
    "now = datetime.now()\n",
    "t = now.strftime(\"%H:%M:%S, %d/%B/%Y\")\n",
    "print(t)\n"
   ]
  },
  {
   "cell_type": "code",
   "execution_count": 49,
   "metadata": {},
   "outputs": [
    {
     "name": "stdout",
     "output_type": "stream",
     "text": [
      "2025-01-01\n",
      "<class 'str'>\n",
      "<class 'datetime.date'>\n"
     ]
    }
   ],
   "source": [
    "from datetime import date\n",
    "d = date(2025, 1, 1)\n",
    "print(d)\n",
    "today = d.strftime(f\"%d/%b/%Y\")\n",
    "print(type(today))\n",
    "print(type(d))"
   ]
  },
  {
   "cell_type": "code",
   "execution_count": 55,
   "metadata": {},
   "outputs": [
    {
     "name": "stdout",
     "output_type": "stream",
     "text": [
      "00:00:00\n",
      "10:30:02\n",
      "00:23:00\n"
     ]
    }
   ],
   "source": [
    "from datetime import time\n",
    "t = time()\n",
    "print(t)\n",
    "tf = time(10, 30, 2)\n",
    "print(tf)\n",
    "tfa = time(minute=23)\n",
    "print(tfa)"
   ]
  },
  {
   "cell_type": "code",
   "execution_count": 10,
   "metadata": {},
   "outputs": [
    {
     "name": "stdout",
     "output_type": "stream",
     "text": [
      "Something went wrong\n"
     ]
    }
   ],
   "source": [
    "try:\n",
    "    print(10 + '5')\n",
    "except:\n",
    "    print(\"Something went wrong\")"
   ]
  },
  {
   "cell_type": "markdown",
   "metadata": {},
   "source": [
    "Regular expression"
   ]
  },
  {
   "cell_type": "code",
   "execution_count": 2,
   "metadata": {},
   "outputs": [
    {
     "name": "stdout",
     "output_type": "stream",
     "text": [
      "<re.Match object; span=(0, 5), match='Hello'>\n"
     ]
    }
   ],
   "source": [
    "import re\n",
    "result = re.match(r\"Hello\", \"Hello world\")\n",
    "print(result)"
   ]
  },
  {
   "cell_type": "code",
   "execution_count": 10,
   "metadata": {},
   "outputs": [
    {
     "name": "stdout",
     "output_type": "stream",
     "text": [
      "<re.Match object; span=(6, 11), match='World'>\n"
     ]
    }
   ],
   "source": [
    "result = re.search(r\"World\", \"Hello World\")\n",
    "print(result)"
   ]
  },
  {
   "cell_type": "markdown",
   "metadata": {},
   "source": [
    "Match()"
   ]
  },
  {
   "cell_type": "code",
   "execution_count": 16,
   "metadata": {},
   "outputs": [
    {
     "name": "stdout",
     "output_type": "stream",
     "text": [
      "<re.Match object; span=(0, 13), match='Will you have'>\n",
      "(0, 13)\n",
      "Will you have\n"
     ]
    }
   ],
   "source": [
    "import re\n",
    "txt = \"Will you have coffee with me someday, whenever you are free??\"\n",
    "result = re.match('Will you have', txt, re.I)\n",
    "print(result)\n",
    "span = result.span()\n",
    "print(span)\n",
    "substring = txt[0:13]\n",
    "print(substring)"
   ]
  },
  {
   "cell_type": "code",
   "execution_count": 17,
   "metadata": {},
   "outputs": [
    {
     "name": "stdout",
     "output_type": "stream",
     "text": [
      "None\n"
     ]
    }
   ],
   "source": [
    "result = re.match(\"Will you go for coffee\", txt, re.I)\n",
    "print(result)"
   ]
  },
  {
   "cell_type": "markdown",
   "metadata": {},
   "source": [
    "Search()"
   ]
  },
  {
   "cell_type": "code",
   "execution_count": 24,
   "metadata": {},
   "outputs": [
    {
     "name": "stdout",
     "output_type": "stream",
     "text": [
      "<re.Match object; span=(91, 97), match='coffee'>\n",
      "(91, 97)\n",
      "coffee\n"
     ]
    }
   ],
   "source": [
    "import re\n",
    "txt = '''Hi, how's it going? Hope everything is good. \n",
    "I just wanted to ask if you'd like to go for coffee sometime. \n",
    "How about today? Sounds great!'''\n",
    "\n",
    "result = re.search(\"coffee\", txt, re.I)\n",
    "# print(result)\n",
    "span = result.span()\n",
    "print(span)\n",
    "print(txt[91:97])\n"
   ]
  },
  {
   "cell_type": "markdown",
   "metadata": {},
   "source": [
    "Findall()"
   ]
  },
  {
   "cell_type": "code",
   "execution_count": 35,
   "metadata": {},
   "outputs": [
    {
     "name": "stdout",
     "output_type": "stream",
     "text": [
      "['coffee', 'coffee', 'Coffee']\n",
      "['coffee', 'coffee', 'Coffee']\n",
      "['coffee', 'coffee', 'Coffee']\n"
     ]
    }
   ],
   "source": [
    "import re\n",
    "txt = '''Hi, how's it going? Hope everything is good. \n",
    "I just wanted to ask if you'd like to go for coffee sometime. \n",
    "You like coffee right? I love Coffee\n",
    "How about today? Sounds great!'''\n",
    "\n",
    "result = re.findall(\"Coffee\", txt, re.I)\n",
    "print(result)\n",
    "\n",
    "results = re.findall(\"Coffee|coffee\", txt)\n",
    "print(results)\n",
    "\n",
    "results = re.findall(\"[Cc]offee\", txt)\n",
    "print(results)"
   ]
  },
  {
   "cell_type": "markdown",
   "metadata": {},
   "source": [
    "Replace a substring"
   ]
  },
  {
   "cell_type": "code",
   "execution_count": 53,
   "metadata": {},
   "outputs": [
    {
     "name": "stdout",
     "output_type": "stream",
     "text": [
      "Hi, how's it going? Hope everything is good. \n",
      "I just wanted to ask if you'd like to go for tea sometime. \n",
      "You like tea right? I love tea\n",
      "How about today? Sounds great!\n",
      "%H%i%,% %h%o%w%'%s% %i%t% %g%o%i%n%g%?% %H%o%p%e% %e%v%e%r%y%t%h%i%n%g% %i%s% %g%o%o%d%.% %\n",
      "%I% %j%u%s%t% %w%a%n%t%e%d% %t%o% %a%s%k% %i%f% %y%o%u%'%d% %l%i%k%e% %t%o% %g%o% %f%o%r% %c%o%f%f%e%e% %s%o%m%e%t%i%m%e%.% %\n",
      "%Y%o%u% %l%i%k%e% %c%o%f%f%e%e% %r%i%g%h%t%?% %I% %l%o%v%e% %C%o%f%f%e%e%\n",
      "%H%o%w% %a%b%o%u%t% %t%o%d%a%y%?% %S%o%u%n%d%s% %g%r%e%a%t%!%\n"
     ]
    }
   ],
   "source": [
    "import re\n",
    "txt = '''Hi, how's it going? Hope everything is good. \n",
    "I just wanted to ask if you'd like to go for coffee sometime. \n",
    "You like coffee right? I love Coffee\n",
    "How about today? Sounds great!'''\n",
    "\n",
    "match_replace = re.sub(r\"coffee\", \"tea\", txt, flags=re.I)\n",
    "print(match_replace)\n",
    "\n"
   ]
  },
  {
   "cell_type": "code",
   "execution_count": 54,
   "metadata": {},
   "outputs": [
    {
     "name": "stdout",
     "output_type": "stream",
     "text": [
      "Hi, how's it going? Hope everything is good. \n",
      "I just wanted to ask if you'd like to go for coffee sometime. \n",
      "You like coffee right? I love Coffee\n",
      "How about today? Sounds great!\n"
     ]
    }
   ],
   "source": [
    "import re\n",
    "txt = '''%H%i%,% %h%o%w%'%s% %i%t% %g%o%i%n%g%?% %H%o%p%e% %e%v%e%r%y%t%h%i%n%g% %i%s% %g%o%o%d%.% %\n",
    "%I% %j%u%s%t% %w%a%n%t%e%d% %t%o% %a%s%k% %i%f% %y%o%u%'%d% %l%i%k%e% %t%o% %g%o% %f%o%r% %c%o%f%f%e%e% %s%o%m%e%t%i%m%e%.% %\n",
    "%Y%o%u% %l%i%k%e% %c%o%f%f%e%e% %r%i%g%h%t%?% %I% %l%o%v%e% %C%o%f%f%e%e%\n",
    "%H%o%w% %a%b%o%u%t% %t%o%d%a%y%?% %S%o%u%n%d%s% %g%r%e%a%t%!%'''\n",
    "\n",
    "matches = re.sub(\"%\", \"\", txt)\n",
    "print(matches)"
   ]
  },
  {
   "cell_type": "code",
   "execution_count": 4,
   "metadata": {},
   "outputs": [
    {
     "name": "stdout",
     "output_type": "stream",
     "text": [
      "[\"Hi, how's it going? Hope everything is good. \", \"I just wanted to ask if you'd like to go for coffee sometime. \", 'You like coffee right? I love Coffee', 'How about today? Sounds great!']\n"
     ]
    }
   ],
   "source": [
    "import re\n",
    "txt = '''Hi, how's it going? Hope everything is good. \n",
    "I just wanted to ask if you'd like to go for coffee sometime. \n",
    "You like coffee right? I love Coffee\n",
    "How about today? Sounds great!'''\n",
    "\n",
    "print(re.split(\"\\n\", txt, flags=re.I))"
   ]
  },
  {
   "cell_type": "code",
   "execution_count": 3,
   "metadata": {},
   "outputs": [
    {
     "name": "stdout",
     "output_type": "stream",
     "text": [
      "['coffee']\n"
     ]
    }
   ],
   "source": [
    "import re\n",
    "r_pattern = r\"coffee\"\n",
    "txt = \"I consume legal drug, called coffee\"\n",
    "matches = re.findall(r_pattern, txt)\n",
    "print(matches)"
   ]
  },
  {
   "cell_type": "code",
   "execution_count": 6,
   "metadata": {},
   "outputs": [
    {
     "name": "stdout",
     "output_type": "stream",
     "text": [
      "['Tea', 'Coffee', 'coffee', 'tea']\n"
     ]
    }
   ],
   "source": [
    "import re\n",
    "# r_pattern = r\"[Cc]offee|[Tt]ea\"\n",
    "r_pattern = r\"coffee|tea\"\n",
    "txt = \"Tea and Coffee are legal drug, Gen-Z people used more with coffee, and people like me are love tea.\"\n",
    "matches = re.findall(r_pattern, txt, flags=re.I)\n",
    "print(matches)"
   ]
  },
  {
   "cell_type": "code",
   "execution_count": null,
   "metadata": {},
   "outputs": [],
   "source": []
  }
 ],
 "metadata": {
  "kernelspec": {
   "display_name": "Python 3",
   "language": "python",
   "name": "python3"
  },
  "language_info": {
   "codemirror_mode": {
    "name": "ipython",
    "version": 3
   },
   "file_extension": ".py",
   "mimetype": "text/x-python",
   "name": "python",
   "nbconvert_exporter": "python",
   "pygments_lexer": "ipython3",
   "version": "3.12.4"
  }
 },
 "nbformat": 4,
 "nbformat_minor": 2
}
