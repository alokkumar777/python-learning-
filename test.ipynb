{
 "cells": [
  {
   "cell_type": "code",
   "execution_count": 22,
   "metadata": {},
   "outputs": [
    {
     "name": "stdout",
     "output_type": "stream",
     "text": [
      "2024-12-16 21:26:16.639774\n",
      "16\n",
      "12\n",
      "16\n",
      "1734364576.639774\n"
     ]
    }
   ],
   "source": [
    "from datetime import datetime \n",
    "now = datetime.now()\n",
    "print(now)\n",
    "day = now.day\n",
    "print(day)\n",
    "month = now.month\n",
    "print(month)\n",
    "second = now.second\n",
    "print(second)\n",
    "timestamp = now.timestamp()\n",
    "print(timestamp)\n",
    "\n",
    "\n"
   ]
  },
  {
   "cell_type": "code",
   "execution_count": 40,
   "metadata": {},
   "outputs": [
    {
     "name": "stdout",
     "output_type": "stream",
     "text": [
      "2020-01-01 00:00:00\n",
      "2024-12-16 21:40:39.886672\n"
     ]
    }
   ],
   "source": [
    "now = datetime(2020, 1, 1)\n",
    "print(now)\n",
    "print(now.today())"
   ]
  },
  {
   "cell_type": "code",
   "execution_count": 36,
   "metadata": {},
   "outputs": [
    {
     "name": "stdout",
     "output_type": "stream",
     "text": [
      "21:38:25, 16/December/2024\n"
     ]
    }
   ],
   "source": [
    "now = datetime.now()\n",
    "t = now.strftime(\"%H:%M:%S, %d/%B/%Y\")\n",
    "print(t)\n"
   ]
  },
  {
   "cell_type": "code",
   "execution_count": 49,
   "metadata": {},
   "outputs": [
    {
     "name": "stdout",
     "output_type": "stream",
     "text": [
      "2025-01-01\n",
      "<class 'str'>\n",
      "<class 'datetime.date'>\n"
     ]
    }
   ],
   "source": [
    "from datetime import date\n",
    "d = date(2025, 1, 1)\n",
    "print(d)\n",
    "today = d.strftime(f\"%d/%b/%Y\")\n",
    "print(type(today))\n",
    "print(type(d))"
   ]
  },
  {
   "cell_type": "code",
   "execution_count": 4,
   "metadata": {},
   "outputs": [
    {
     "name": "stdout",
     "output_type": "stream",
     "text": [
      "00:00:00\n",
      "10:30:02\n",
      "00:23:00\n"
     ]
    }
   ],
   "source": [
    "from datetime import time\n",
    "t = time()\n",
    "print(t)\n",
    "tf = time(10, 30, 2)\n",
    "print(tf)\n",
    "tfa = time(minute=23)\n",
    "print(tfa)"
   ]
  },
  {
   "cell_type": "code",
   "execution_count": null,
   "metadata": {},
   "outputs": [],
   "source": []
  }
 ],
 "metadata": {
  "kernelspec": {
   "display_name": "Python 3",
   "language": "python",
   "name": "python3"
  },
  "language_info": {
   "codemirror_mode": {
    "name": "ipython",
    "version": 3
   },
   "file_extension": ".py",
   "mimetype": "text/x-python",
   "name": "python",
   "nbconvert_exporter": "python",
   "pygments_lexer": "ipython3",
   "version": "3.12.4"
  }
 },
 "nbformat": 4,
 "nbformat_minor": 2
}
