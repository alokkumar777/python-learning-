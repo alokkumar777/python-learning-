{
 "cells": [
  {
   "cell_type": "code",
   "execution_count": null,
   "metadata": {},
   "outputs": [],
   "source": [
    "# Encapsulation - Group if data(attribute) and functions(methods).\n",
    "# Abstraction - Hiding implementation, Exposing functionality.\n",
    "# Inheritance - Create new classes from existing ones.\n",
    "# Polymorphism - Object can take multiple form.\n",
    "# Class - Blurprint for create object.\n",
    "# Object - Instance of class.\n",
    "# Attributes - Variable that store data within a class.\n",
    "# Methods - Functions that define the behaviour of the class."
   ]
  },
  {
   "cell_type": "code",
   "execution_count": null,
   "metadata": {},
   "outputs": [],
   "source": [
    "# Define class\n",
    "class Animal:\n",
    "    def __init__(self, name, sound):\n",
    "        self.name = name     # attribute\n",
    "        self.sound = sound   # attribute\n",
    "\n",
    "    def make_sound(self):    # method\n",
    "        return f\"{self.name} says {self.sound}\"\n",
    "\n",
    "a1 = Animal(\"Shiro\", \"Woof\")\n",
    "a2 = Animal(\"Muku\", \"Woof\")\n",
    "print(a1.make_sound())\n",
    "print(a2.make_sound())"
   ]
  },
  {
   "cell_type": "code",
   "execution_count": null,
   "metadata": {},
   "outputs": [],
   "source": [
    "class Example:\n",
    "    def __init__(self):\n",
    "        self.public_var = \"I am public\"\n",
    "        self._protected_var = \"I am protected\"\n",
    "        self.__private_var = \"I am private\"\n",
    "\n",
    "    def get_private_info(self):\n",
    "        return self.__private_var\n",
    "\n",
    "obj = Example()\n",
    "print(obj.public_var)\n",
    "print(obj._protected_var)\n",
    "# print(obj.__private_var)\n",
    "print(obj.get_private_info())\n",
    "# print(obj._Example__private_var)    # name mangling way - NOT RECOMMENDED\n"
   ]
  },
  {
   "cell_type": "code",
   "execution_count": null,
   "metadata": {},
   "outputs": [],
   "source": [
    "class Calculator:\n",
    "    def __init__(self, num1, num2):\n",
    "        self.num1 = num1\n",
    "        self.num2 = num2\n",
    "        self.cal_history_list = []\n",
    "\n",
    "    def cal_history(self):\n",
    "        print(f\"Calculation History --> {self.cal_history_list}\")\n",
    "        \n",
    "    def add(self):\n",
    "        self.result = self.num1 + self.num2\n",
    "        self.cal_history_list.append(self.result)\n",
    "        \n",
    "    def sub(self):\n",
    "        self.result = self.num1 - self.num2\n",
    "        self.cal_history_list.append(self.result)\n",
    "        \n",
    "    def mul(self):\n",
    "        self.result = self.num1 * self.num2\n",
    "        self.cal_history_list.append(self.result)\n",
    "        \n",
    "    def div(self):\n",
    "        self.result = self.num1 / self.num2\n",
    "        self.cal_history_list.append(self.result)\n",
    "        \n",
    "    def soln(self):\n",
    "        \n",
    "        print(f\"Result is: {self.result}\")\n",
    "\n",
    "    def soln_all(self):\n",
    "        print(f\"Addition:\", end=\" \"); self.add(); self.soln()\n",
    "        print(f\"Subtraction:\", end=\" \"); self.sub(); self.soln()\n",
    "        print(f\"Multiplication:\")\n",
    "        print(f\"Division: {self.num1 / self.num2}\")\n",
    "\n",
    "cal = Calculator(3, 5)\n",
    "a = cal.div()\n",
    "b = cal.soln()"
   ]
  },
  {
   "cell_type": "code",
   "execution_count": 3,
   "metadata": {},
   "outputs": [
    {
     "name": "stdout",
     "output_type": "stream",
     "text": [
      "Android Phone: Samsung, Price: $500\n",
      "iPhone: Apple, Price: $1000\n",
      "Click to install\n",
      "Use facetime for apps\n"
     ]
    }
   ],
   "source": [
    "class Smartphone:\n",
    "    def __init__(self, brand, price):\n",
    "        self.brand = brand\n",
    "        self.price = price\n",
    "\t\t\t\t\n",
    "class Android(Smartphone):\n",
    "    def __init__(self, brand, price):\n",
    "        super().__init__(brand, price)\n",
    "\n",
    "    def install_app(self):\n",
    "        print(\"Click to install\")\n",
    "\n",
    "        \n",
    "class iPhone(Smartphone):\n",
    "    def __init__(self, brand, price):\n",
    "        super().__init__(brand, price)\n",
    "\n",
    "    def use_facetime(self):\n",
    "        print(\"Use facetime for apps\")\n",
    "\n",
    "# Create instances\n",
    "android_phone = Android(\"Samsung\", 500)\n",
    "iphone = iPhone(\"Apple\", 1000)\n",
    "\n",
    "# Access attributes\n",
    "print(f\"Android Phone: {android_phone.brand}, Price: ${android_phone.price}\")\n",
    "print(f\"iPhone: {iphone.brand}, Price: ${iphone.price}\")\n",
    "\n",
    "# Call methods\n",
    "android_phone.install_app()\n",
    "iphone.use_facetime()\n"
   ]
  },
  {
   "cell_type": "code",
   "execution_count": 3,
   "metadata": {},
   "outputs": [
    {
     "name": "stdout",
     "output_type": "stream",
     "text": [
      "Work from Parent1\n",
      "[<class '__main__.Child'>, <class '__main__.Parent1'>, <class '__main__.Parent2'>, <class 'object'>]\n"
     ]
    }
   ],
   "source": [
    "class Parent1:\n",
    "    def work(self):\n",
    "        print(\"Work from Parent1\")\n",
    "        \n",
    "class Parent2:\n",
    "    def work(self):\n",
    "        print(\"Work from Parent2\")\n",
    "\n",
    "class Child(Parent1, Parent2):\n",
    "    def work(self):\n",
    "        print(\"Work from Child\")\n",
    "        \n",
    "    def do_work(self):\n",
    "        super().work()\n",
    "\n",
    "child = Child()\n",
    "child.do_work()\n",
    "\n",
    "\n",
    "# Works on MRO (Method resolution order) \n",
    "print(Child.mro())"
   ]
  },
  {
   "cell_type": "code",
   "execution_count": null,
   "metadata": {},
   "outputs": [],
   "source": []
  },
  {
   "cell_type": "code",
   "execution_count": null,
   "metadata": {},
   "outputs": [],
   "source": []
  },
  {
   "cell_type": "code",
   "execution_count": null,
   "metadata": {},
   "outputs": [],
   "source": []
  },
  {
   "cell_type": "code",
   "execution_count": null,
   "metadata": {},
   "outputs": [],
   "source": []
  }
 ],
 "metadata": {
  "kernelspec": {
   "display_name": "Python 3",
   "language": "python",
   "name": "python3"
  },
  "language_info": {
   "codemirror_mode": {
    "name": "ipython",
    "version": 3
   },
   "file_extension": ".py",
   "mimetype": "text/x-python",
   "name": "python",
   "nbconvert_exporter": "python",
   "pygments_lexer": "ipython3",
   "version": "3.12.4"
  }
 },
 "nbformat": 4,
 "nbformat_minor": 2
}
