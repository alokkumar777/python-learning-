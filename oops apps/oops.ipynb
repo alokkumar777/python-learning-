{
 "cells": [
  {
   "cell_type": "code",
   "execution_count": null,
   "metadata": {},
   "outputs": [],
   "source": [
    "# Encapsulation - Group if data(attribute) and functions(methods).\n",
    "# Abstraction - Hiding implementation, Exposing functionality.\n",
    "# Inheritance - Create new classes from existing ones.\n",
    "# Polymorphism - Object can take multiple form.\n",
    "# Class - Blurprint for create object.\n",
    "# Object - Instance of class.\n",
    "# Attributes - Variable that store data within a class.\n",
    "# Methods - Functions that define the behaviour of the class."
   ]
  },
  {
   "cell_type": "code",
   "execution_count": null,
   "metadata": {},
   "outputs": [],
   "source": [
    "# Define class\n",
    "class Animal:\n",
    "    def __init__(self, name, sound):\n",
    "        self.name = name     # attribute\n",
    "        self.sound = sound   # attribute\n",
    "\n",
    "    def make_sound(self):    # method\n",
    "        return f\"{self.name} says {self.sound}\"\n",
    "\n",
    "a1 = Animal(\"Shiro\", \"Woof\")\n",
    "a2 = Animal(\"Muku\", \"Woof\")\n",
    "print(a1.make_sound())\n",
    "print(a2.make_sound())"
   ]
  },
  {
   "cell_type": "code",
   "execution_count": null,
   "metadata": {},
   "outputs": [],
   "source": [
    "class Example:\n",
    "    def __init__(self):\n",
    "        self.public_var = \"I am public\"\n",
    "        self._protected_var = \"I am protected\"\n",
    "        self.__private_var = \"I am private\"\n",
    "\n",
    "obj = Example()\n",
    "print(obj.public_var)\n",
    "print(obj._protected_var)\n",
    "# print(obj.__private_var)"
   ]
  },
  {
   "cell_type": "code",
   "execution_count": null,
   "metadata": {},
   "outputs": [],
   "source": []
  }
 ],
 "metadata": {
  "language_info": {
   "name": "python"
  }
 },
 "nbformat": 4,
 "nbformat_minor": 2
}
