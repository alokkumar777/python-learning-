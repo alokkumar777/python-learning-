{
 "cells": [
  {
   "cell_type": "code",
   "execution_count": null,
   "metadata": {},
   "outputs": [],
   "source": [
    "# Encapsulation - Group if data(attribute) and functions(methods).\n",
    "# Abstraction - Hiding implementation, Exposing functionality.\n",
    "# Inheritance - Create new classes from existing ones.\n",
    "# Polymorphism - Object can take multiple form.\n",
    "# Class - Blurprint for create object.\n",
    "# Object - Instance of class.\n",
    "# Attributes - Variable that store data within a class.\n",
    "# Methods - Functions that define the behaviour of the class."
   ]
  },
  {
   "cell_type": "code",
   "execution_count": null,
   "metadata": {},
   "outputs": [],
   "source": [
    "# Define class\n",
    "class Animal:\n",
    "    def __init__(self, name, sound):\n",
    "        self.name = name     # attribute\n",
    "        self.sound = sound   # attribute\n",
    "\n",
    "    def make_sound(self):    # method\n",
    "        return f\"{self.name} says {self.sound}\"\n",
    "\n",
    "a1 = Animal(\"Shiro\", \"Woof\")\n",
    "a2 = Animal(\"Muku\", \"Woof\")\n",
    "print(a1.make_sound())\n",
    "print(a2.make_sound())"
   ]
  },
  {
   "cell_type": "code",
   "execution_count": null,
   "metadata": {},
   "outputs": [],
   "source": [
    "class Example:\n",
    "    def __init__(self):\n",
    "        self.public_var = \"I am public\"\n",
    "        self._protected_var = \"I am protected\"\n",
    "        self.__private_var = \"I am private\"\n",
    "\n",
    "    def get_private_info(self):\n",
    "        return self.__private_var\n",
    "\n",
    "obj = Example()\n",
    "print(obj.public_var)\n",
    "print(obj._protected_var)\n",
    "# print(obj.__private_var)\n",
    "print(obj.get_private_info())\n",
    "# print(obj._Example__private_var)    # name mangling way - NOT RECOMMENDED\n"
   ]
  },
  {
   "cell_type": "code",
   "execution_count": null,
   "metadata": {},
   "outputs": [],
   "source": [
    "class Calculator:\n",
    "    def __init__(self, num1, num2):\n",
    "        self.num1 = num1\n",
    "        self.num2 = num2\n",
    "        self.cal_history_list = []\n",
    "\n",
    "    def cal_history(self):\n",
    "        print(f\"Calculation History --> {self.cal_history_list}\")\n",
    "        \n",
    "    def add(self):\n",
    "        self.result = self.num1 + self.num2\n",
    "        self.cal_history_list.append(self.result)\n",
    "        \n",
    "    def sub(self):\n",
    "        self.result = self.num1 - self.num2\n",
    "        self.cal_history_list.append(self.result)\n",
    "        \n",
    "    def mul(self):\n",
    "        self.result = self.num1 * self.num2\n",
    "        self.cal_history_list.append(self.result)\n",
    "        \n",
    "    def div(self):\n",
    "        self.result = self.num1 / self.num2\n",
    "        self.cal_history_list.append(self.result)\n",
    "        \n",
    "    def soln(self):\n",
    "        \n",
    "        print(f\"Result is: {self.result}\")\n",
    "\n",
    "    def soln_all(self):\n",
    "        print(f\"Addition:\", end=\" \"); self.add(); self.soln()\n",
    "        print(f\"Subtraction:\", end=\" \"); self.sub(); self.soln()\n",
    "        print(f\"Multiplication:\")\n",
    "        print(f\"Division: {self.num1 / self.num2}\")\n",
    "\n",
    "cal = Calculator(3, 5)\n",
    "a = cal.div()\n",
    "b = cal.soln()"
   ]
  },
  {
   "cell_type": "code",
   "execution_count": null,
   "metadata": {},
   "outputs": [],
   "source": []
  },
  {
   "cell_type": "code",
   "execution_count": null,
   "metadata": {},
   "outputs": [],
   "source": []
  },
  {
   "cell_type": "code",
   "execution_count": null,
   "metadata": {},
   "outputs": [],
   "source": []
  },
  {
   "cell_type": "code",
   "execution_count": null,
   "metadata": {},
   "outputs": [],
   "source": []
  },
  {
   "cell_type": "code",
   "execution_count": null,
   "metadata": {},
   "outputs": [],
   "source": []
  },
  {
   "cell_type": "code",
   "execution_count": null,
   "metadata": {},
   "outputs": [],
   "source": []
  }
 ],
 "metadata": {
  "language_info": {
   "name": "python"
  }
 },
 "nbformat": 4,
 "nbformat_minor": 2
}
