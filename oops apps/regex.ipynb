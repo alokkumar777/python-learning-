{
 "cells": [
  {
   "cell_type": "code",
   "execution_count": null,
   "metadata": {},
   "outputs": [],
   "source": [
    "# re.match(pattern, data) return object\n",
    "# re.search(pattern, data) return object\n",
    "# re.findall(pattern, data) return list\n",
    "# re.split(pattern, data)  return updated data\n",
    "# re.sub(pattern, data) return updated data\n",
    "\n",
    "# '\\d' - means contain all digits (0-9)\n",
    "# '\\w' - means contain words\n",
    "# '\\s' - space character\n",
    "# '\\D' - except digits\n",
    "# '\\W' - except words\n",
    "# '\\S' - except space character\n",
    "# '.' - any character except newline\n",
    "# '^' - stars with - eg r'^code'\n",
    "# '$' - ends with - eg r'code$'\n",
    "# '[^code]' - not include - eg r'[^code]' not c, not o, not d, not e\n",
    "# '*' - zero or more times eg - r'[a]*'\n",
    "# '+' - one or more times eg - r'[a]+'\n",
    "# '?' - zero or one time eg - r'[a]?'\n",
    "# '{n}' exactly n characters\n",
    "# '{n,}' - atleast n characters\n",
    "# '{, n}' - 0 to n characters\n",
    "# '{n, m}' - n to m characters\n",
    "# '|' - or either this or that eg - apple|banana\n",
    "# '()' - capture abd grouping"
   ]
  },
  {
   "cell_type": "code",
   "execution_count": null,
   "metadata": {},
   "outputs": [],
   "source": []
  }
 ],
 "metadata": {
  "kernelspec": {
   "display_name": "Python 3",
   "language": "python",
   "name": "python3"
  },
  "language_info": {
   "name": "python",
   "version": "3.12.4"
  }
 },
 "nbformat": 4,
 "nbformat_minor": 2
}
